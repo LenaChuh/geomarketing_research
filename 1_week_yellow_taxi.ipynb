{
 "cells": [
  {
   "cell_type": "code",
   "execution_count": 1,
   "metadata": {
    "collapsed": true
   },
   "outputs": [],
   "source": [
    "import pandas as pd\n",
    "from scipy import stats\n",
    "import numpy as np"
   ]
  },
  {
   "cell_type": "code",
   "execution_count": 2,
   "metadata": {
    "collapsed": true
   },
   "outputs": [],
   "source": [
    "regions = pd.read_csv('regions.txt',sep=';',header=0)"
   ]
  },
  {
   "cell_type": "code",
   "execution_count": 5,
   "metadata": {
    "collapsed": true,
    "scrolled": true
   },
   "outputs": [],
   "source": [
    "dt1 = pd.read_csv('yellow_tripdata_2016-05.csv', sep = ',',header=0)"
   ]
  },
  {
   "cell_type": "code",
   "execution_count": 6,
   "metadata": {},
   "outputs": [
    {
     "data": {
      "text/html": [
       "<div>\n",
       "<style>\n",
       "    .dataframe thead tr:only-child th {\n",
       "        text-align: right;\n",
       "    }\n",
       "\n",
       "    .dataframe thead th {\n",
       "        text-align: left;\n",
       "    }\n",
       "\n",
       "    .dataframe tbody tr th {\n",
       "        vertical-align: top;\n",
       "    }\n",
       "</style>\n",
       "<table border=\"1\" class=\"dataframe\">\n",
       "  <thead>\n",
       "    <tr style=\"text-align: right;\">\n",
       "      <th></th>\n",
       "      <th>VendorID</th>\n",
       "      <th>tpep_pickup_datetime</th>\n",
       "      <th>tpep_dropoff_datetime</th>\n",
       "      <th>passenger_count</th>\n",
       "      <th>trip_distance</th>\n",
       "      <th>pickup_longitude</th>\n",
       "      <th>pickup_latitude</th>\n",
       "      <th>RatecodeID</th>\n",
       "      <th>store_and_fwd_flag</th>\n",
       "      <th>dropoff_longitude</th>\n",
       "      <th>dropoff_latitude</th>\n",
       "      <th>payment_type</th>\n",
       "      <th>fare_amount</th>\n",
       "      <th>extra</th>\n",
       "      <th>mta_tax</th>\n",
       "      <th>tip_amount</th>\n",
       "      <th>tolls_amount</th>\n",
       "      <th>improvement_surcharge</th>\n",
       "      <th>total_amount</th>\n",
       "    </tr>\n",
       "  </thead>\n",
       "  <tbody>\n",
       "    <tr>\n",
       "      <th>0</th>\n",
       "      <td>1</td>\n",
       "      <td>2016-05-01 00:00:00</td>\n",
       "      <td>2016-05-01 00:17:31</td>\n",
       "      <td>1</td>\n",
       "      <td>3.60</td>\n",
       "      <td>-73.985901</td>\n",
       "      <td>40.768040</td>\n",
       "      <td>1</td>\n",
       "      <td>N</td>\n",
       "      <td>-73.983986</td>\n",
       "      <td>40.730099</td>\n",
       "      <td>1</td>\n",
       "      <td>15.0</td>\n",
       "      <td>0.5</td>\n",
       "      <td>0.5</td>\n",
       "      <td>1.50</td>\n",
       "      <td>0.0</td>\n",
       "      <td>0.3</td>\n",
       "      <td>17.80</td>\n",
       "    </tr>\n",
       "    <tr>\n",
       "      <th>1</th>\n",
       "      <td>2</td>\n",
       "      <td>2016-05-01 00:00:00</td>\n",
       "      <td>2016-05-01 00:07:31</td>\n",
       "      <td>1</td>\n",
       "      <td>1.68</td>\n",
       "      <td>-73.991577</td>\n",
       "      <td>40.744751</td>\n",
       "      <td>1</td>\n",
       "      <td>N</td>\n",
       "      <td>-73.975700</td>\n",
       "      <td>40.765469</td>\n",
       "      <td>1</td>\n",
       "      <td>7.5</td>\n",
       "      <td>0.5</td>\n",
       "      <td>0.5</td>\n",
       "      <td>0.88</td>\n",
       "      <td>0.0</td>\n",
       "      <td>0.3</td>\n",
       "      <td>9.68</td>\n",
       "    </tr>\n",
       "    <tr>\n",
       "      <th>2</th>\n",
       "      <td>2</td>\n",
       "      <td>2016-05-01 00:00:00</td>\n",
       "      <td>2016-05-01 00:07:01</td>\n",
       "      <td>6</td>\n",
       "      <td>1.09</td>\n",
       "      <td>-73.993073</td>\n",
       "      <td>40.741573</td>\n",
       "      <td>1</td>\n",
       "      <td>N</td>\n",
       "      <td>-73.980995</td>\n",
       "      <td>40.744633</td>\n",
       "      <td>1</td>\n",
       "      <td>6.5</td>\n",
       "      <td>0.5</td>\n",
       "      <td>0.5</td>\n",
       "      <td>1.56</td>\n",
       "      <td>0.0</td>\n",
       "      <td>0.3</td>\n",
       "      <td>9.36</td>\n",
       "    </tr>\n",
       "    <tr>\n",
       "      <th>3</th>\n",
       "      <td>2</td>\n",
       "      <td>2016-05-01 00:00:00</td>\n",
       "      <td>2016-05-01 00:19:47</td>\n",
       "      <td>1</td>\n",
       "      <td>4.21</td>\n",
       "      <td>-73.991943</td>\n",
       "      <td>40.684601</td>\n",
       "      <td>1</td>\n",
       "      <td>N</td>\n",
       "      <td>-74.002258</td>\n",
       "      <td>40.733002</td>\n",
       "      <td>1</td>\n",
       "      <td>17.0</td>\n",
       "      <td>0.5</td>\n",
       "      <td>0.5</td>\n",
       "      <td>3.66</td>\n",
       "      <td>0.0</td>\n",
       "      <td>0.3</td>\n",
       "      <td>21.96</td>\n",
       "    </tr>\n",
       "    <tr>\n",
       "      <th>4</th>\n",
       "      <td>2</td>\n",
       "      <td>2016-05-01 00:00:00</td>\n",
       "      <td>2016-05-01 00:06:39</td>\n",
       "      <td>1</td>\n",
       "      <td>0.56</td>\n",
       "      <td>-74.005280</td>\n",
       "      <td>40.740192</td>\n",
       "      <td>1</td>\n",
       "      <td>N</td>\n",
       "      <td>-73.997498</td>\n",
       "      <td>40.737564</td>\n",
       "      <td>1</td>\n",
       "      <td>6.0</td>\n",
       "      <td>0.5</td>\n",
       "      <td>0.5</td>\n",
       "      <td>1.46</td>\n",
       "      <td>0.0</td>\n",
       "      <td>0.3</td>\n",
       "      <td>8.76</td>\n",
       "    </tr>\n",
       "  </tbody>\n",
       "</table>\n",
       "</div>"
      ],
      "text/plain": [
       "   VendorID tpep_pickup_datetime tpep_dropoff_datetime  passenger_count  \\\n",
       "0         1  2016-05-01 00:00:00   2016-05-01 00:17:31                1   \n",
       "1         2  2016-05-01 00:00:00   2016-05-01 00:07:31                1   \n",
       "2         2  2016-05-01 00:00:00   2016-05-01 00:07:01                6   \n",
       "3         2  2016-05-01 00:00:00   2016-05-01 00:19:47                1   \n",
       "4         2  2016-05-01 00:00:00   2016-05-01 00:06:39                1   \n",
       "\n",
       "   trip_distance  pickup_longitude  pickup_latitude  RatecodeID  \\\n",
       "0           3.60        -73.985901        40.768040           1   \n",
       "1           1.68        -73.991577        40.744751           1   \n",
       "2           1.09        -73.993073        40.741573           1   \n",
       "3           4.21        -73.991943        40.684601           1   \n",
       "4           0.56        -74.005280        40.740192           1   \n",
       "\n",
       "  store_and_fwd_flag  dropoff_longitude  dropoff_latitude  payment_type  \\\n",
       "0                  N         -73.983986         40.730099             1   \n",
       "1                  N         -73.975700         40.765469             1   \n",
       "2                  N         -73.980995         40.744633             1   \n",
       "3                  N         -74.002258         40.733002             1   \n",
       "4                  N         -73.997498         40.737564             1   \n",
       "\n",
       "   fare_amount  extra  mta_tax  tip_amount  tolls_amount  \\\n",
       "0         15.0    0.5      0.5        1.50           0.0   \n",
       "1          7.5    0.5      0.5        0.88           0.0   \n",
       "2          6.5    0.5      0.5        1.56           0.0   \n",
       "3         17.0    0.5      0.5        3.66           0.0   \n",
       "4          6.0    0.5      0.5        1.46           0.0   \n",
       "\n",
       "   improvement_surcharge  total_amount  \n",
       "0                    0.3         17.80  \n",
       "1                    0.3          9.68  \n",
       "2                    0.3          9.36  \n",
       "3                    0.3         21.96  \n",
       "4                    0.3          8.76  "
      ]
     },
     "execution_count": 6,
     "metadata": {},
     "output_type": "execute_result"
    }
   ],
   "source": [
    "dt1.head()"
   ]
  },
  {
   "cell_type": "code",
   "execution_count": 7,
   "metadata": {},
   "outputs": [
    {
     "data": {
      "text/plain": [
       "11836853"
      ]
     },
     "execution_count": 7,
     "metadata": {},
     "output_type": "execute_result"
    }
   ],
   "source": [
    "len(dt1)"
   ]
  },
  {
   "cell_type": "code",
   "execution_count": 8,
   "metadata": {
    "collapsed": true
   },
   "outputs": [],
   "source": [
    "dt=pd.DataFrame({'VendorID': dt1['VendorID'],\n",
    "                 'tpep_pickup_datetime': dt1['tpep_pickup_datetime'],\n",
    "                 'tpep_dropoff_datetime': dt1['tpep_dropoff_datetime'],\n",
    "                'passenger_count': dt1['passenger_count'],\n",
    "                'pickup_longitude': dt1['pickup_longitude'],\n",
    "                'pickup_latitude': dt1['pickup_latitude'],\n",
    "                'trip_distance': dt1['trip_distance']})# будем работать только с нужными данными"
   ]
  },
  {
   "cell_type": "code",
   "execution_count": 10,
   "metadata": {
    "collapsed": true
   },
   "outputs": [],
   "source": [
    "#изменение типа столбца с помощью функции apply\n",
    "dt.tpep_pickup_datetime = dt.tpep_pickup_datetime.apply(pd.to_datetime)\n",
    "dt.tpep_dropoff_datetime = dt.tpep_dropoff_datetime.apply(pd.to_datetime)"
   ]
  },
  {
   "cell_type": "markdown",
   "metadata": {},
   "source": [
    " Проведем фильтрацию: \n",
    " \n",
    " удалим поездки с\n",
    "\n",
    "нулевой длительностью\n",
    "нулевым количеством пассажиров\n",
    "нулевым расстоянием поездки по счётчику\n",
    "координатами начала, не попадающими в прямоугольник Нью-Йорка"
   ]
  },
  {
   "cell_type": "code",
   "execution_count": 11,
   "metadata": {
    "collapsed": true
   },
   "outputs": [],
   "source": [
    "dt['delta']=dt['tpep_dropoff_datetime']-dt['tpep_pickup_datetime'] # длительность поездки\n",
    "dt = dt.drop(dt[(dt.passenger_count == 0) | (dt.trip_distance == 0.0)|(dt.delta =='00:00:00')].index)\n",
    "dt = dt[(dt['pickup_latitude']<40.91553)&\n",
    "          (dt['pickup_latitude']>40.49612)&\n",
    "          (dt['pickup_longitude']<-73.70001)&\n",
    "          (dt['pickup_longitude']>-74.25559)]"
   ]
  },
  {
   "cell_type": "markdown",
   "metadata": {},
   "source": [
    "Агрегируйте данные за май 2016 года по часам и областям (можно использовать функцию stats.binned_statistic_2d, с которой вы сталкивались в заданиях четвёртого курса). Не забудьте проверить, что идентификаторы, которые вы присваиваете ячейкам, соответствуют приложенному выше файлу."
   ]
  },
  {
   "cell_type": "code",
   "execution_count": 12,
   "metadata": {
    "collapsed": true
   },
   "outputs": [],
   "source": [
    "biny=regions.south.unique()\n",
    "biny.sort()\n",
    "binx=regions.west.unique()\n",
    "binx.sort()"
   ]
  },
  {
   "cell_type": "code",
   "execution_count": 13,
   "metadata": {
    "collapsed": true
   },
   "outputs": [],
   "source": [
    "dt['hour']=dt['tpep_pickup_datetime'].dt.hour#столбик часа отправления\n",
    "dt['date_month']=dt['tpep_pickup_datetime'].dt.month#столбик номера месяца отправления\n",
    "dt['date_day']=dt['tpep_pickup_datetime'].dt.day#столбик номера дня отправления"
   ]
  },
  {
   "cell_type": "code",
   "execution_count": 14,
   "metadata": {
    "collapsed": true
   },
   "outputs": [],
   "source": [
    "y = dt.pickup_latitude.values\n",
    "x = dt.pickup_longitude.values\n",
    "statistic,x_edge,y_edge,binnumber = stats.binned_statistic_2d(x, y, regions, 'count', bins=[binx[1:],biny[1:]])\n",
    "#определяем область отправления"
   ]
  },
  {
   "cell_type": "code",
   "execution_count": 15,
   "metadata": {},
   "outputs": [
    {
     "data": {
      "text/plain": [
       "array([1232, 1179, 1179, ..., 1126, 1231, 1360])"
      ]
     },
     "execution_count": 15,
     "metadata": {},
     "output_type": "execute_result"
    }
   ],
   "source": [
    "binnumber#номера регионов списком для нашей таблицы"
   ]
  },
  {
   "cell_type": "code",
   "execution_count": 16,
   "metadata": {
    "collapsed": true
   },
   "outputs": [],
   "source": [
    "dt['area']=binnumber#столбик области отправления\n",
    "dt['count']=1"
   ]
  },
  {
   "cell_type": "code",
   "execution_count": 17,
   "metadata": {
    "collapsed": true
   },
   "outputs": [],
   "source": [
    "dt['year']=dt['tpep_pickup_datetime'].dt.year#столбик номера года отправления"
   ]
  },
  {
   "cell_type": "code",
   "execution_count": 18,
   "metadata": {
    "collapsed": true
   },
   "outputs": [],
   "source": [
    "dt['day_hour'] = dt['tpep_pickup_datetime'].map(lambda x: x.strftime('%Y-%m-%d %H'))"
   ]
  },
  {
   "cell_type": "code",
   "execution_count": 19,
   "metadata": {
    "scrolled": true
   },
   "outputs": [
    {
     "data": {
      "text/html": [
       "<div>\n",
       "<style>\n",
       "    .dataframe thead tr:only-child th {\n",
       "        text-align: right;\n",
       "    }\n",
       "\n",
       "    .dataframe thead th {\n",
       "        text-align: left;\n",
       "    }\n",
       "\n",
       "    .dataframe tbody tr th {\n",
       "        vertical-align: top;\n",
       "    }\n",
       "</style>\n",
       "<table border=\"1\" class=\"dataframe\">\n",
       "  <thead>\n",
       "    <tr style=\"text-align: right;\">\n",
       "      <th></th>\n",
       "      <th>VendorID</th>\n",
       "      <th>passenger_count</th>\n",
       "      <th>pickup_latitude</th>\n",
       "      <th>pickup_longitude</th>\n",
       "      <th>tpep_dropoff_datetime</th>\n",
       "      <th>tpep_pickup_datetime</th>\n",
       "      <th>trip_distance</th>\n",
       "      <th>delta</th>\n",
       "      <th>hour</th>\n",
       "      <th>date_month</th>\n",
       "      <th>date_day</th>\n",
       "      <th>area</th>\n",
       "      <th>count</th>\n",
       "      <th>year</th>\n",
       "      <th>day_hour</th>\n",
       "    </tr>\n",
       "  </thead>\n",
       "  <tbody>\n",
       "    <tr>\n",
       "      <th>11836837</th>\n",
       "      <td>2</td>\n",
       "      <td>2</td>\n",
       "      <td>40.774818</td>\n",
       "      <td>-73.947876</td>\n",
       "      <td>2016-06-01 00:00:24</td>\n",
       "      <td>2016-05-31 23:53:01</td>\n",
       "      <td>1.89</td>\n",
       "      <td>00:07:23</td>\n",
       "      <td>23</td>\n",
       "      <td>5</td>\n",
       "      <td>31</td>\n",
       "      <td>1383</td>\n",
       "      <td>1</td>\n",
       "      <td>2016</td>\n",
       "      <td>2016-05-31 23</td>\n",
       "    </tr>\n",
       "    <tr>\n",
       "      <th>11836838</th>\n",
       "      <td>2</td>\n",
       "      <td>1</td>\n",
       "      <td>40.646942</td>\n",
       "      <td>-73.789467</td>\n",
       "      <td>2016-06-01 00:19:36</td>\n",
       "      <td>2016-05-31 23:53:02</td>\n",
       "      <td>15.21</td>\n",
       "      <td>00:26:34</td>\n",
       "      <td>23</td>\n",
       "      <td>5</td>\n",
       "      <td>31</td>\n",
       "      <td>2067</td>\n",
       "      <td>1</td>\n",
       "      <td>2016</td>\n",
       "      <td>2016-05-31 23</td>\n",
       "    </tr>\n",
       "    <tr>\n",
       "      <th>11836839</th>\n",
       "      <td>2</td>\n",
       "      <td>1</td>\n",
       "      <td>40.719723</td>\n",
       "      <td>-74.008659</td>\n",
       "      <td>2016-05-31 23:59:07</td>\n",
       "      <td>2016-05-31 23:53:02</td>\n",
       "      <td>1.80</td>\n",
       "      <td>00:06:05</td>\n",
       "      <td>23</td>\n",
       "      <td>5</td>\n",
       "      <td>31</td>\n",
       "      <td>1126</td>\n",
       "      <td>1</td>\n",
       "      <td>2016</td>\n",
       "      <td>2016-05-31 23</td>\n",
       "    </tr>\n",
       "    <tr>\n",
       "      <th>11836840</th>\n",
       "      <td>2</td>\n",
       "      <td>1</td>\n",
       "      <td>40.758862</td>\n",
       "      <td>-73.981644</td>\n",
       "      <td>2016-06-01 00:05:47</td>\n",
       "      <td>2016-05-31 23:53:03</td>\n",
       "      <td>2.28</td>\n",
       "      <td>00:12:44</td>\n",
       "      <td>23</td>\n",
       "      <td>5</td>\n",
       "      <td>31</td>\n",
       "      <td>1231</td>\n",
       "      <td>1</td>\n",
       "      <td>2016</td>\n",
       "      <td>2016-05-31 23</td>\n",
       "    </tr>\n",
       "    <tr>\n",
       "      <th>11836841</th>\n",
       "      <td>1</td>\n",
       "      <td>1</td>\n",
       "      <td>40.586658</td>\n",
       "      <td>-73.948959</td>\n",
       "      <td>2016-05-19 03:31:24</td>\n",
       "      <td>2016-05-19 03:29:16</td>\n",
       "      <td>0.60</td>\n",
       "      <td>00:02:08</td>\n",
       "      <td>3</td>\n",
       "      <td>5</td>\n",
       "      <td>19</td>\n",
       "      <td>1360</td>\n",
       "      <td>1</td>\n",
       "      <td>2016</td>\n",
       "      <td>2016-05-19 03</td>\n",
       "    </tr>\n",
       "  </tbody>\n",
       "</table>\n",
       "</div>"
      ],
      "text/plain": [
       "          VendorID  passenger_count  pickup_latitude  pickup_longitude  \\\n",
       "11836837         2                2        40.774818        -73.947876   \n",
       "11836838         2                1        40.646942        -73.789467   \n",
       "11836839         2                1        40.719723        -74.008659   \n",
       "11836840         2                1        40.758862        -73.981644   \n",
       "11836841         1                1        40.586658        -73.948959   \n",
       "\n",
       "         tpep_dropoff_datetime tpep_pickup_datetime  trip_distance    delta  \\\n",
       "11836837   2016-06-01 00:00:24  2016-05-31 23:53:01           1.89 00:07:23   \n",
       "11836838   2016-06-01 00:19:36  2016-05-31 23:53:02          15.21 00:26:34   \n",
       "11836839   2016-05-31 23:59:07  2016-05-31 23:53:02           1.80 00:06:05   \n",
       "11836840   2016-06-01 00:05:47  2016-05-31 23:53:03           2.28 00:12:44   \n",
       "11836841   2016-05-19 03:31:24  2016-05-19 03:29:16           0.60 00:02:08   \n",
       "\n",
       "          hour  date_month  date_day  area  count  year       day_hour  \n",
       "11836837    23           5        31  1383      1  2016  2016-05-31 23  \n",
       "11836838    23           5        31  2067      1  2016  2016-05-31 23  \n",
       "11836839    23           5        31  1126      1  2016  2016-05-31 23  \n",
       "11836840    23           5        31  1231      1  2016  2016-05-31 23  \n",
       "11836841     3           5        19  1360      1  2016  2016-05-19 03  "
      ]
     },
     "execution_count": 19,
     "metadata": {},
     "output_type": "execute_result"
    }
   ],
   "source": [
    "dt.tail()"
   ]
  },
  {
   "cell_type": "code",
   "execution_count": 53,
   "metadata": {},
   "outputs": [],
   "source": [
    "all_periods=sorted(set(dt.day_hour.values))#выбираем уникальные часы-поездки в исходной таблице, соритруем их по возрастанию\n",
    "k=all_periods[len(all_periods)-1]\n",
    "p = pd.Period(k,freq='h')\n",
    "p1=p+1#создаем нижнюю границу для формирования сетки\n",
    "all_periods.append(str(p1)[-16:-3])#добавляем к списку новую нижнюю границу "
   ]
  },
  {
   "cell_type": "code",
   "execution_count": 55,
   "metadata": {
    "collapsed": true
   },
   "outputs": [],
   "source": [
    "all_periods=pd.Series(all_periods)"
   ]
  },
  {
   "cell_type": "code",
   "execution_count": 66,
   "metadata": {
    "scrolled": true
   },
   "outputs": [],
   "source": [
    "all_periods=all_periods.apply(pd.to_datetime)\n",
    "all_periods1=all_periods.view('int64') // pd.Timedelta(1, unit='s')# переводим список дат в формат int для агрегации"
   ]
  },
  {
   "cell_type": "code",
   "execution_count": 90,
   "metadata": {},
   "outputs": [
    {
     "data": {
      "text/plain": [
       "0    1462060800\n",
       "1    1462064400\n",
       "2    1462068000\n",
       "3    1462071600\n",
       "4    1462075200\n",
       "dtype: int64"
      ]
     },
     "execution_count": 90,
     "metadata": {},
     "output_type": "execute_result"
    }
   ],
   "source": [
    "all_periods1[:5]#спискок всех дат поездок для агрегации"
   ]
  },
  {
   "cell_type": "code",
   "execution_count": 68,
   "metadata": {
    "collapsed": true,
    "scrolled": true
   },
   "outputs": [],
   "source": [
    "day_hour_data=dt.day_hour.apply(pd.to_datetime)\n",
    "day_hour_data=pd.Series(day_hour_data)"
   ]
  },
  {
   "cell_type": "code",
   "execution_count": 69,
   "metadata": {},
   "outputs": [],
   "source": [
    "day_hour_data1=day_hour_data.view('int64') // pd.Timedelta(1, unit='s')#метка день-час поездки для каждой поездки"
   ]
  },
  {
   "cell_type": "code",
   "execution_count": 70,
   "metadata": {
    "scrolled": true
   },
   "outputs": [],
   "source": [
    "x1 = dt.area.values#номера районов для каждой поездки\n",
    "binx1=regions.region\n",
    "s1 = pd.Series([2501])\n",
    "binx1=binx1.append(s1)#список всех районов\n",
    "time_zone,x_edge1,y_edge1,binnumber1 = stats.binned_statistic_2d(x1,day_hour_data1, None, 'count', bins=[binx1,all_periods1])"
   ]
  },
  {
   "cell_type": "code",
   "execution_count": 72,
   "metadata": {},
   "outputs": [
    {
     "data": {
      "text/plain": [
       "(2500, 744)"
      ]
     },
     "execution_count": 72,
     "metadata": {},
     "output_type": "execute_result"
    }
   ],
   "source": [
    "time_zone.shape#получили таблицу агрегированных данных день-час поездки-район города. "
   ]
  },
  {
   "cell_type": "code",
   "execution_count": 88,
   "metadata": {},
   "outputs": [],
   "source": [
    "time_zone_2016_05=pd.DataFrame(time_zone,index=binx1[:-1], columns = all_periods[:-1])\n",
    "#запишем в таблицу для легкого прочтения"
   ]
  },
  {
   "cell_type": "code",
   "execution_count": 89,
   "metadata": {
    "scrolled": true
   },
   "outputs": [
    {
     "data": {
      "text/html": [
       "<div>\n",
       "<style>\n",
       "    .dataframe thead tr:only-child th {\n",
       "        text-align: right;\n",
       "    }\n",
       "\n",
       "    .dataframe thead th {\n",
       "        text-align: left;\n",
       "    }\n",
       "\n",
       "    .dataframe tbody tr th {\n",
       "        vertical-align: top;\n",
       "    }\n",
       "</style>\n",
       "<table border=\"1\" class=\"dataframe\">\n",
       "  <thead>\n",
       "    <tr style=\"text-align: right;\">\n",
       "      <th></th>\n",
       "      <th>2016-05-01 00:00:00</th>\n",
       "      <th>2016-05-01 01:00:00</th>\n",
       "      <th>2016-05-01 02:00:00</th>\n",
       "      <th>2016-05-01 03:00:00</th>\n",
       "      <th>2016-05-01 04:00:00</th>\n",
       "      <th>2016-05-01 05:00:00</th>\n",
       "      <th>2016-05-01 06:00:00</th>\n",
       "      <th>2016-05-01 07:00:00</th>\n",
       "      <th>2016-05-01 08:00:00</th>\n",
       "      <th>2016-05-01 09:00:00</th>\n",
       "      <th>...</th>\n",
       "      <th>2016-05-31 14:00:00</th>\n",
       "      <th>2016-05-31 15:00:00</th>\n",
       "      <th>2016-05-31 16:00:00</th>\n",
       "      <th>2016-05-31 17:00:00</th>\n",
       "      <th>2016-05-31 18:00:00</th>\n",
       "      <th>2016-05-31 19:00:00</th>\n",
       "      <th>2016-05-31 20:00:00</th>\n",
       "      <th>2016-05-31 21:00:00</th>\n",
       "      <th>2016-05-31 22:00:00</th>\n",
       "      <th>2016-05-31 23:00:00</th>\n",
       "    </tr>\n",
       "  </thead>\n",
       "  <tbody>\n",
       "    <tr>\n",
       "      <th>1</th>\n",
       "      <td>0.0</td>\n",
       "      <td>0.0</td>\n",
       "      <td>0.0</td>\n",
       "      <td>0.0</td>\n",
       "      <td>0.0</td>\n",
       "      <td>0.0</td>\n",
       "      <td>0.0</td>\n",
       "      <td>0.0</td>\n",
       "      <td>0.0</td>\n",
       "      <td>0.0</td>\n",
       "      <td>...</td>\n",
       "      <td>0.0</td>\n",
       "      <td>0.0</td>\n",
       "      <td>0.0</td>\n",
       "      <td>0.0</td>\n",
       "      <td>0.0</td>\n",
       "      <td>0.0</td>\n",
       "      <td>0.0</td>\n",
       "      <td>0.0</td>\n",
       "      <td>0.0</td>\n",
       "      <td>0.0</td>\n",
       "    </tr>\n",
       "    <tr>\n",
       "      <th>2</th>\n",
       "      <td>0.0</td>\n",
       "      <td>0.0</td>\n",
       "      <td>0.0</td>\n",
       "      <td>0.0</td>\n",
       "      <td>0.0</td>\n",
       "      <td>0.0</td>\n",
       "      <td>0.0</td>\n",
       "      <td>0.0</td>\n",
       "      <td>0.0</td>\n",
       "      <td>0.0</td>\n",
       "      <td>...</td>\n",
       "      <td>0.0</td>\n",
       "      <td>0.0</td>\n",
       "      <td>0.0</td>\n",
       "      <td>0.0</td>\n",
       "      <td>0.0</td>\n",
       "      <td>0.0</td>\n",
       "      <td>0.0</td>\n",
       "      <td>0.0</td>\n",
       "      <td>0.0</td>\n",
       "      <td>0.0</td>\n",
       "    </tr>\n",
       "    <tr>\n",
       "      <th>3</th>\n",
       "      <td>0.0</td>\n",
       "      <td>0.0</td>\n",
       "      <td>0.0</td>\n",
       "      <td>0.0</td>\n",
       "      <td>0.0</td>\n",
       "      <td>0.0</td>\n",
       "      <td>0.0</td>\n",
       "      <td>0.0</td>\n",
       "      <td>0.0</td>\n",
       "      <td>0.0</td>\n",
       "      <td>...</td>\n",
       "      <td>0.0</td>\n",
       "      <td>0.0</td>\n",
       "      <td>0.0</td>\n",
       "      <td>0.0</td>\n",
       "      <td>0.0</td>\n",
       "      <td>0.0</td>\n",
       "      <td>0.0</td>\n",
       "      <td>0.0</td>\n",
       "      <td>0.0</td>\n",
       "      <td>0.0</td>\n",
       "    </tr>\n",
       "    <tr>\n",
       "      <th>4</th>\n",
       "      <td>0.0</td>\n",
       "      <td>0.0</td>\n",
       "      <td>0.0</td>\n",
       "      <td>0.0</td>\n",
       "      <td>0.0</td>\n",
       "      <td>0.0</td>\n",
       "      <td>0.0</td>\n",
       "      <td>0.0</td>\n",
       "      <td>0.0</td>\n",
       "      <td>0.0</td>\n",
       "      <td>...</td>\n",
       "      <td>0.0</td>\n",
       "      <td>0.0</td>\n",
       "      <td>0.0</td>\n",
       "      <td>0.0</td>\n",
       "      <td>0.0</td>\n",
       "      <td>0.0</td>\n",
       "      <td>0.0</td>\n",
       "      <td>0.0</td>\n",
       "      <td>0.0</td>\n",
       "      <td>0.0</td>\n",
       "    </tr>\n",
       "    <tr>\n",
       "      <th>5</th>\n",
       "      <td>0.0</td>\n",
       "      <td>0.0</td>\n",
       "      <td>0.0</td>\n",
       "      <td>0.0</td>\n",
       "      <td>0.0</td>\n",
       "      <td>0.0</td>\n",
       "      <td>0.0</td>\n",
       "      <td>0.0</td>\n",
       "      <td>0.0</td>\n",
       "      <td>0.0</td>\n",
       "      <td>...</td>\n",
       "      <td>0.0</td>\n",
       "      <td>0.0</td>\n",
       "      <td>0.0</td>\n",
       "      <td>0.0</td>\n",
       "      <td>0.0</td>\n",
       "      <td>0.0</td>\n",
       "      <td>0.0</td>\n",
       "      <td>0.0</td>\n",
       "      <td>0.0</td>\n",
       "      <td>0.0</td>\n",
       "    </tr>\n",
       "  </tbody>\n",
       "</table>\n",
       "<p>5 rows × 744 columns</p>\n",
       "</div>"
      ],
      "text/plain": [
       "   2016-05-01 00:00:00  2016-05-01 01:00:00  2016-05-01 02:00:00  \\\n",
       "1                  0.0                  0.0                  0.0   \n",
       "2                  0.0                  0.0                  0.0   \n",
       "3                  0.0                  0.0                  0.0   \n",
       "4                  0.0                  0.0                  0.0   \n",
       "5                  0.0                  0.0                  0.0   \n",
       "\n",
       "   2016-05-01 03:00:00  2016-05-01 04:00:00  2016-05-01 05:00:00  \\\n",
       "1                  0.0                  0.0                  0.0   \n",
       "2                  0.0                  0.0                  0.0   \n",
       "3                  0.0                  0.0                  0.0   \n",
       "4                  0.0                  0.0                  0.0   \n",
       "5                  0.0                  0.0                  0.0   \n",
       "\n",
       "   2016-05-01 06:00:00  2016-05-01 07:00:00  2016-05-01 08:00:00  \\\n",
       "1                  0.0                  0.0                  0.0   \n",
       "2                  0.0                  0.0                  0.0   \n",
       "3                  0.0                  0.0                  0.0   \n",
       "4                  0.0                  0.0                  0.0   \n",
       "5                  0.0                  0.0                  0.0   \n",
       "\n",
       "   2016-05-01 09:00:00         ...           2016-05-31 14:00:00  \\\n",
       "1                  0.0         ...                           0.0   \n",
       "2                  0.0         ...                           0.0   \n",
       "3                  0.0         ...                           0.0   \n",
       "4                  0.0         ...                           0.0   \n",
       "5                  0.0         ...                           0.0   \n",
       "\n",
       "   2016-05-31 15:00:00  2016-05-31 16:00:00  2016-05-31 17:00:00  \\\n",
       "1                  0.0                  0.0                  0.0   \n",
       "2                  0.0                  0.0                  0.0   \n",
       "3                  0.0                  0.0                  0.0   \n",
       "4                  0.0                  0.0                  0.0   \n",
       "5                  0.0                  0.0                  0.0   \n",
       "\n",
       "   2016-05-31 18:00:00  2016-05-31 19:00:00  2016-05-31 20:00:00  \\\n",
       "1                  0.0                  0.0                  0.0   \n",
       "2                  0.0                  0.0                  0.0   \n",
       "3                  0.0                  0.0                  0.0   \n",
       "4                  0.0                  0.0                  0.0   \n",
       "5                  0.0                  0.0                  0.0   \n",
       "\n",
       "   2016-05-31 21:00:00  2016-05-31 22:00:00  2016-05-31 23:00:00  \n",
       "1                  0.0                  0.0                  0.0  \n",
       "2                  0.0                  0.0                  0.0  \n",
       "3                  0.0                  0.0                  0.0  \n",
       "4                  0.0                  0.0                  0.0  \n",
       "5                  0.0                  0.0                  0.0  \n",
       "\n",
       "[5 rows x 744 columns]"
      ]
     },
     "execution_count": 89,
     "metadata": {},
     "output_type": "execute_result"
    }
   ],
   "source": [
    "time_zone_2016_05.head()"
   ]
  },
  {
   "cell_type": "code",
   "execution_count": 91,
   "metadata": {
    "collapsed": true
   },
   "outputs": [],
   "source": [
    "time_zone_2016_05.to_csv('time_zone_2016_05.csv')"
   ]
  },
  {
   "cell_type": "markdown",
   "metadata": {},
   "source": [
    "Координаты Empire State Building (40.74846, -73.98591).Это квадрат с индексом 1229, номером региона 1230.\n",
    "Построим график количества поездок жёлтого такси из ячейки, содержащей Empire State Building."
   ]
  },
  {
   "cell_type": "code",
   "execution_count": 99,
   "metadata": {},
   "outputs": [
    {
     "data": {
      "text/html": [
       "<div>\n",
       "<style>\n",
       "    .dataframe thead tr:only-child th {\n",
       "        text-align: right;\n",
       "    }\n",
       "\n",
       "    .dataframe thead th {\n",
       "        text-align: left;\n",
       "    }\n",
       "\n",
       "    .dataframe tbody tr th {\n",
       "        vertical-align: top;\n",
       "    }\n",
       "</style>\n",
       "<table border=\"1\" class=\"dataframe\">\n",
       "  <thead>\n",
       "    <tr style=\"text-align: right;\">\n",
       "      <th></th>\n",
       "      <th>2016-05-01 00:00:00</th>\n",
       "      <th>2016-05-01 01:00:00</th>\n",
       "      <th>2016-05-01 02:00:00</th>\n",
       "      <th>2016-05-01 03:00:00</th>\n",
       "      <th>2016-05-01 04:00:00</th>\n",
       "      <th>2016-05-01 05:00:00</th>\n",
       "      <th>2016-05-01 06:00:00</th>\n",
       "      <th>2016-05-01 07:00:00</th>\n",
       "      <th>2016-05-01 08:00:00</th>\n",
       "      <th>2016-05-01 09:00:00</th>\n",
       "      <th>...</th>\n",
       "      <th>2016-05-31 14:00:00</th>\n",
       "      <th>2016-05-31 15:00:00</th>\n",
       "      <th>2016-05-31 16:00:00</th>\n",
       "      <th>2016-05-31 17:00:00</th>\n",
       "      <th>2016-05-31 18:00:00</th>\n",
       "      <th>2016-05-31 19:00:00</th>\n",
       "      <th>2016-05-31 20:00:00</th>\n",
       "      <th>2016-05-31 21:00:00</th>\n",
       "      <th>2016-05-31 22:00:00</th>\n",
       "      <th>2016-05-31 23:00:00</th>\n",
       "    </tr>\n",
       "  </thead>\n",
       "  <tbody>\n",
       "    <tr>\n",
       "      <th>1230</th>\n",
       "      <td>881.0</td>\n",
       "      <td>713.0</td>\n",
       "      <td>533.0</td>\n",
       "      <td>418.0</td>\n",
       "      <td>353.0</td>\n",
       "      <td>151.0</td>\n",
       "      <td>147.0</td>\n",
       "      <td>158.0</td>\n",
       "      <td>256.0</td>\n",
       "      <td>340.0</td>\n",
       "      <td>...</td>\n",
       "      <td>1009.0</td>\n",
       "      <td>814.0</td>\n",
       "      <td>748.0</td>\n",
       "      <td>879.0</td>\n",
       "      <td>1093.0</td>\n",
       "      <td>1094.0</td>\n",
       "      <td>997.0</td>\n",
       "      <td>1099.0</td>\n",
       "      <td>874.0</td>\n",
       "      <td>608.0</td>\n",
       "    </tr>\n",
       "  </tbody>\n",
       "</table>\n",
       "<p>1 rows × 744 columns</p>\n",
       "</div>"
      ],
      "text/plain": [
       "      2016-05-01 00:00:00  2016-05-01 01:00:00  2016-05-01 02:00:00  \\\n",
       "1230                881.0                713.0                533.0   \n",
       "\n",
       "      2016-05-01 03:00:00  2016-05-01 04:00:00  2016-05-01 05:00:00  \\\n",
       "1230                418.0                353.0                151.0   \n",
       "\n",
       "      2016-05-01 06:00:00  2016-05-01 07:00:00  2016-05-01 08:00:00  \\\n",
       "1230                147.0                158.0                256.0   \n",
       "\n",
       "      2016-05-01 09:00:00         ...           2016-05-31 14:00:00  \\\n",
       "1230                340.0         ...                        1009.0   \n",
       "\n",
       "      2016-05-31 15:00:00  2016-05-31 16:00:00  2016-05-31 17:00:00  \\\n",
       "1230                814.0                748.0                879.0   \n",
       "\n",
       "      2016-05-31 18:00:00  2016-05-31 19:00:00  2016-05-31 20:00:00  \\\n",
       "1230               1093.0               1094.0                997.0   \n",
       "\n",
       "      2016-05-31 21:00:00  2016-05-31 22:00:00  2016-05-31 23:00:00  \n",
       "1230               1099.0                874.0                608.0  \n",
       "\n",
       "[1 rows x 744 columns]"
      ]
     },
     "execution_count": 99,
     "metadata": {},
     "output_type": "execute_result"
    }
   ],
   "source": [
    "Empire_State_Building=time_zone_2016_05[time_zone_2016_05.index==1230]\n",
    "Empire_State_Building"
   ]
  },
  {
   "cell_type": "code",
   "execution_count": 101,
   "metadata": {},
   "outputs": [
    {
     "data": {
      "image/png": "[encoded data removed]",
      "text/plain": [
       "<matplotlib.figure.Figure at 0x21d793ed5f8>"
      ]
     },
     "metadata": {},
     "output_type": "display_data"
    }
   ],
   "source": [
    "import matplotlib.pyplot as plt\n",
    "\n",
    "fig = plt.figure(figsize = (15,5))\n",
    "ax = fig.add_subplot(111)\n",
    "    \n",
    "Empire_State_Building.T.plot(kind=\"line\",color=\"r\",ax = fig.add_subplot(111),figsize = (15,5)).legend()\n",
    "plt.title(u'График количества поездок желтого такси')\n",
    "plt.xlabel(u'Дата')\n",
    "plt.ylabel(u'Количество поездок')\n",
    "plt.show()"
   ]
  },
  {
   "cell_type": "markdown",
   "metadata": {},
   "source": [
    "Посчитаем, сколько в мае 2016 было пар час-ячейка, для которых не было совершено ни одной поездки."
   ]
  },
  {
   "cell_type": "code",
   "execution_count": 110,
   "metadata": {},
   "outputs": [
    {
     "data": {
      "text/plain": [
       "(1718238,)"
      ]
     },
     "execution_count": 110,
     "metadata": {},
     "output_type": "execute_result"
    }
   ],
   "source": [
    "null_cells=time_zone[time_zone==0]\n",
    "null_cells.shape# вот столько нулей в нашей конечной таблице агрегированных данных"
   ]
  },
  {
   "cell_type": "code",
   "execution_count": null,
   "metadata": {
    "collapsed": true
   },
   "outputs": [],
   "source": []
  }
 ],
 "metadata": {
  "kernelspec": {
   "display_name": "Python 3",
   "language": "python",
   "name": "python3"
  },
  "language_info": {
   "codemirror_mode": {
    "name": "ipython",
    "version": 3
   },
   "file_extension": ".py",
   "mimetype": "text/x-python",
   "name": "python",
   "nbconvert_exporter": "python",
   "pygments_lexer": "ipython3",
   "version": "3.8.5"
  }
 },
 "nbformat": 4,
 "nbformat_minor": 2
}
